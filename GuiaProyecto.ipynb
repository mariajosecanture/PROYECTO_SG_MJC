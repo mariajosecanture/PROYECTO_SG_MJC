{
 "cells": [
  {
   "cell_type": "markdown",
   "metadata": {},
   "source": [
    "<img style=\"float: left; margin: 30px 15px 15px 15px;\" src=\"https://pngimage.net/wp-content/uploads/2018/06/logo-iteso-png-5.png\" width=\"300\" height=\"500\" /> \n",
    "    \n",
    "    \n",
    "### <font color='navy'> Simulación de procesos financieros. \n",
    "\n",
    "**Nombres:** Maria Jose Cantu, Sofia Garcia Mora y Andrés Green\n",
    "\n",
    "**Fecha:** 2020\n",
    "\n",
    "**Expediente** : if708916, if714303 e ii713504\n",
    "    \n",
    "**Profesor:** Oscar David Jaramillo Zuluaga.\n",
    "\n",
    "**LINK TAREA:** https://github.com/mariajosecanture/PROYECTO_SG_MJC\n",
    "\n",
    "# PROYECTO"
   ]
  },
  {
   "cell_type": "markdown",
   "metadata": {},
   "source": [
    "___\n",
    "## 1. Entregable.\n",
    "Los trabajos deben tener los siguientes componentes básicos.\n",
    "\n",
    "### 1.1 Título del trabajo.\n",
    "> Debe describir el trabajo.\n",
    "\n",
    "### 1.2 Objetivos.\n",
    "> - Se refieren a los propósitos por los cuales se hace el trabajo.\n",
    "> - Deben ser concretos, evaluables y verificables.\n",
    "> - Deben ser escritos en infinitivo.\n",
    "> #### 1.1 Objetivo general.\n",
    ">  - Fin último de estudio. Se formula atendiendo el propósito global del trabajo. No presenta detalles.\n",
    ">  - Se orienta a la totalidad del trabajo. Tiene que ver con el título del trabajo.\n",
    "> #### 1.2 Objetivos específicos\n",
    ">  - De forma detallada describen cada una de los componentes del trabajo.\n",
    ">  - En conjunto garantizan la consecución del objetivo general.\n",
    "\n",
    "Referencia:\n",
    "- https://es.slideshare.net/rosbur/metodologia-objetivos-generales-y-especficos\n",
    "\n",
    "### 1.3 Definición del problema.\n",
    "> Se debe describir en una cuartilla máximo cuál es el escenario de negocio que se va a modelar, identificar cuáles son los supuestos que defines en el negocio y cuáles son los \"nodos\" o \"escenarios\" que identificas necesarios simular y porqué. Debes elaborar un diagrama de inicio a fin, identificando los \"nodos\" o \"escenarios\" a simular.\n",
    "\n",
    "### 1.4 Nodos y variables que se decidieron simular y porqué\n",
    "> En este apartado el objetivo es identificar los problemas que se van a abordar, para examinar la factibilidad y viabilidad de la simulación de los nodos escogidos. Posteriormente se debe de argumentar del porqué de los nodos escogidos.\n",
    "\n",
    "### 1.5 Definición de hipótesis y supuestos.\n",
    ">  Para poder modelar un proceso de negocio o cualquiera otro proceso en el área de las ingenierías o ciencias sociales, después de identificar el objeto de estudio, es importante indicar cuales son los supuestos que se dan por verdaderos a lo largo de la ejecución del proceso. Estos supuestos se deben indicar en forma de variables e hipótesis (son diferentes), porque si puedes definir en un valor el supuesto lo llamaremos \"supuesto constante\" y si no es posible identificarlo con un número entonces será una hipótesis que afectará la construcción de los escenarios posibles del proceso.\n",
    "\n",
    "### 1.6 Obtención de bases de datos\n",
    "> El tercer paso del proyecto es indicar de dónde se obtendrán las bases de datos, que indican como se han comportado las variables que identificaste en tu proceso de negocio que vas a simular. En esta investigación debes haber encontrado información propia de la empresa, organización o institución que vas a simular y otra parte de la información debe provenir de investigación que realices en fuentes de información públicas o privadas como las que tiene SECOBI, ahí normalmente y dependiendo del problema elegido, se investigan variables económicas, como tasas de interés, inflación, tipo de cambio, etc., de varios años, por poner un ejemplo.\n",
    "\n"
   ]
  },
  {
   "cell_type": "markdown",
   "metadata": {},
   "source": [
    "#### Descarga de librerias"
   ]
  },
  {
   "cell_type": "code",
   "execution_count": 1,
   "metadata": {},
   "outputs": [],
   "source": [
    "import numpy as np\n",
    "from functools import reduce\n",
    "import time\n",
    "import matplotlib.pyplot as plt\n",
    "import scipy.stats as st\n",
    "import pandas as pd\n",
    "from scipy import optimize\n",
    "import statsmodels.api as sm \n"
   ]
  },
  {
   "cell_type": "markdown",
   "metadata": {},
   "source": [
    "#### Descarga de datos por utilizar "
   ]
  },
  {
   "cell_type": "code",
   "execution_count": 2,
   "metadata": {
    "scrolled": false
   },
   "outputs": [
    {
     "data": {
      "text/html": [
       "<div>\n",
       "<style scoped>\n",
       "    .dataframe tbody tr th:only-of-type {\n",
       "        vertical-align: middle;\n",
       "    }\n",
       "\n",
       "    .dataframe tbody tr th {\n",
       "        vertical-align: top;\n",
       "    }\n",
       "\n",
       "    .dataframe thead th {\n",
       "        text-align: right;\n",
       "    }\n",
       "</style>\n",
       "<table border=\"1\" class=\"dataframe\">\n",
       "  <thead>\n",
       "    <tr style=\"text-align: right;\">\n",
       "      <th></th>\n",
       "      <th>Unnamed: 0</th>\n",
       "      <th>Hombre</th>\n",
       "      <th>Mujer</th>\n",
       "      <th>Hombre Menor de edad</th>\n",
       "      <th>Mujer Menor de edad</th>\n",
       "      <th>No especificado</th>\n",
       "      <th>Hombre Mayor de edad</th>\n",
       "      <th>Mujer Mayor de edad</th>\n",
       "      <th>No especificado.1</th>\n",
       "      <th>Hombre Mexicano</th>\n",
       "      <th>...</th>\n",
       "      <th>No especificado.2</th>\n",
       "      <th>Hombre Extraanjero</th>\n",
       "      <th>Mujer Extranjera</th>\n",
       "      <th>No especificado</th>\n",
       "      <th>Hombre Profesional</th>\n",
       "      <th>Mujer Profesional</th>\n",
       "      <th>No especificado.3</th>\n",
       "      <th>Hombre No profesional</th>\n",
       "      <th>Mujer No profesional</th>\n",
       "      <th>No especificado.4</th>\n",
       "    </tr>\n",
       "  </thead>\n",
       "  <tbody>\n",
       "    <tr>\n",
       "      <th>103</th>\n",
       "      <td>2018-08-01</td>\n",
       "      <td>2785</td>\n",
       "      <td>309</td>\n",
       "      <td>216</td>\n",
       "      <td>43</td>\n",
       "      <td>0</td>\n",
       "      <td>2392</td>\n",
       "      <td>250</td>\n",
       "      <td>3</td>\n",
       "      <td>2410</td>\n",
       "      <td>...</td>\n",
       "      <td>NaN</td>\n",
       "      <td>31</td>\n",
       "      <td>4</td>\n",
       "      <td>0</td>\n",
       "      <td>411</td>\n",
       "      <td>52</td>\n",
       "      <td>0</td>\n",
       "      <td>1908</td>\n",
       "      <td>205</td>\n",
       "      <td>1</td>\n",
       "    </tr>\n",
       "    <tr>\n",
       "      <th>104</th>\n",
       "      <td>2018-09-01</td>\n",
       "      <td>2780</td>\n",
       "      <td>317</td>\n",
       "      <td>189</td>\n",
       "      <td>34</td>\n",
       "      <td>0</td>\n",
       "      <td>2454</td>\n",
       "      <td>269</td>\n",
       "      <td>0</td>\n",
       "      <td>2449</td>\n",
       "      <td>...</td>\n",
       "      <td>NaN</td>\n",
       "      <td>41</td>\n",
       "      <td>5</td>\n",
       "      <td>0</td>\n",
       "      <td>488</td>\n",
       "      <td>37</td>\n",
       "      <td>0</td>\n",
       "      <td>1859</td>\n",
       "      <td>222</td>\n",
       "      <td>0</td>\n",
       "    </tr>\n",
       "    <tr>\n",
       "      <th>105</th>\n",
       "      <td>2018-10-01</td>\n",
       "      <td>2721</td>\n",
       "      <td>318</td>\n",
       "      <td>173</td>\n",
       "      <td>58</td>\n",
       "      <td>0</td>\n",
       "      <td>2372</td>\n",
       "      <td>247</td>\n",
       "      <td>1</td>\n",
       "      <td>2358</td>\n",
       "      <td>...</td>\n",
       "      <td>NaN</td>\n",
       "      <td>21</td>\n",
       "      <td>5</td>\n",
       "      <td>0</td>\n",
       "      <td>482</td>\n",
       "      <td>52</td>\n",
       "      <td>0</td>\n",
       "      <td>1760</td>\n",
       "      <td>219</td>\n",
       "      <td>0</td>\n",
       "    </tr>\n",
       "    <tr>\n",
       "      <th>106</th>\n",
       "      <td>2018-11-01</td>\n",
       "      <td>2703</td>\n",
       "      <td>293</td>\n",
       "      <td>220</td>\n",
       "      <td>44</td>\n",
       "      <td>0</td>\n",
       "      <td>2317</td>\n",
       "      <td>237</td>\n",
       "      <td>1</td>\n",
       "      <td>2330</td>\n",
       "      <td>...</td>\n",
       "      <td>NaN</td>\n",
       "      <td>28</td>\n",
       "      <td>8</td>\n",
       "      <td>0</td>\n",
       "      <td>439</td>\n",
       "      <td>53</td>\n",
       "      <td>0</td>\n",
       "      <td>1775</td>\n",
       "      <td>199</td>\n",
       "      <td>1</td>\n",
       "    </tr>\n",
       "    <tr>\n",
       "      <th>107</th>\n",
       "      <td>2018-12-01</td>\n",
       "      <td>2598</td>\n",
       "      <td>319</td>\n",
       "      <td>207</td>\n",
       "      <td>52</td>\n",
       "      <td>0</td>\n",
       "      <td>2252</td>\n",
       "      <td>252</td>\n",
       "      <td>0</td>\n",
       "      <td>2240</td>\n",
       "      <td>...</td>\n",
       "      <td>NaN</td>\n",
       "      <td>39</td>\n",
       "      <td>5</td>\n",
       "      <td>0</td>\n",
       "      <td>460</td>\n",
       "      <td>45</td>\n",
       "      <td>0</td>\n",
       "      <td>1689</td>\n",
       "      <td>212</td>\n",
       "      <td>0</td>\n",
       "    </tr>\n",
       "  </tbody>\n",
       "</table>\n",
       "<p>5 rows × 21 columns</p>\n",
       "</div>"
      ],
      "text/plain": [
       "    Unnamed: 0  Hombre  Mujer  Hombre Menor de edad  Mujer Menor de edad  \\\n",
       "103 2018-08-01    2785    309                   216                   43   \n",
       "104 2018-09-01    2780    317                   189                   34   \n",
       "105 2018-10-01    2721    318                   173                   58   \n",
       "106 2018-11-01    2703    293                   220                   44   \n",
       "107 2018-12-01    2598    319                   207                   52   \n",
       "\n",
       "     No especificado  Hombre Mayor de edad  Mujer Mayor de edad  \\\n",
       "103                0                  2392                  250   \n",
       "104                0                  2454                  269   \n",
       "105                0                  2372                  247   \n",
       "106                0                  2317                  237   \n",
       "107                0                  2252                  252   \n",
       "\n",
       "     No especificado.1  Hombre Mexicano  ...  No especificado.2  \\\n",
       "103                  3             2410  ...                NaN   \n",
       "104                  0             2449  ...                NaN   \n",
       "105                  1             2358  ...                NaN   \n",
       "106                  1             2330  ...                NaN   \n",
       "107                  0             2240  ...                NaN   \n",
       "\n",
       "     Hombre Extraanjero  Mujer Extranjera   No especificado  \\\n",
       "103                  31                 4                 0   \n",
       "104                  41                 5                 0   \n",
       "105                  21                 5                 0   \n",
       "106                  28                 8                 0   \n",
       "107                  39                 5                 0   \n",
       "\n",
       "     Hombre Profesional  Mujer Profesional  No especificado.3  \\\n",
       "103                 411                 52                  0   \n",
       "104                 488                 37                  0   \n",
       "105                 482                 52                  0   \n",
       "106                 439                 53                  0   \n",
       "107                 460                 45                  0   \n",
       "\n",
       "     Hombre No profesional  Mujer No profesional  No especificado.4  \n",
       "103                   1908                   205                  1  \n",
       "104                   1859                   222                  0  \n",
       "105                   1760                   219                  0  \n",
       "106                   1775                   199                  1  \n",
       "107                   1689                   212                  0  \n",
       "\n",
       "[5 rows x 21 columns]"
      ]
     },
     "execution_count": 2,
     "metadata": {},
     "output_type": "execute_result"
    }
   ],
   "source": [
    "data = pd.read_excel('DB_homicidios.xlsx')\n",
    "data.tail()"
   ]
  },
  {
   "cell_type": "markdown",
   "metadata": {},
   "source": [
    "### PRIMERO NODO: \n",
    "Edad de las personas asesinadas "
   ]
  },
  {
   "cell_type": "code",
   "execution_count": 5,
   "metadata": {
    "scrolled": true
   },
   "outputs": [
    {
     "name": "stderr",
     "output_type": "stream",
     "text": [
      "//anaconda3/lib/python3.7/site-packages/ipykernel_launcher.py:2: SettingWithCopyWarning: \n",
      "A value is trying to be set on a copy of a slice from a DataFrame.\n",
      "Try using .loc[row_indexer,col_indexer] = value instead\n",
      "\n",
      "See the caveats in the documentation: http://pandas.pydata.org/pandas-docs/stable/indexing.html#indexing-view-versus-copy\n",
      "  \n",
      "//anaconda3/lib/python3.7/site-packages/ipykernel_launcher.py:3: SettingWithCopyWarning: \n",
      "A value is trying to be set on a copy of a slice from a DataFrame.\n",
      "Try using .loc[row_indexer,col_indexer] = value instead\n",
      "\n",
      "See the caveats in the documentation: http://pandas.pydata.org/pandas-docs/stable/indexing.html#indexing-view-versus-copy\n",
      "  This is separate from the ipykernel package so we can avoid doing imports until\n"
     ]
    }
   ],
   "source": [
    "data_h_m = data[['Hombre','Mujer']]\n",
    "data_h_m['Hombre+Mujer']=data_h_m['Hombre']+data_h_m['Mujer']\n",
    "data_h_m['Prom_hombre']=data_h_m['Hombre']/data_h_m['Hombre+Mujer']"
   ]
  },
  {
   "cell_type": "markdown",
   "metadata": {},
   "source": [
    "#### HACER EL HISTOGRAMA CON LOS BINS OPTIMOS DE LOS DATOS "
   ]
  },
  {
   "cell_type": "code",
   "execution_count": 6,
   "metadata": {},
   "outputs": [],
   "source": [
    "from sklearn.neighbors import KernelDensity\n",
    "from scipy.stats import gaussian_kde\n",
    "from statsmodels.nonparametric.kde import KDEUnivariate\n",
    "from statsmodels.nonparametric.kernel_density import KDEMultivariate"
   ]
  },
  {
   "cell_type": "code",
   "execution_count": 7,
   "metadata": {},
   "outputs": [],
   "source": [
    "x = data_h_m['Prom_hombre']\n",
    "y= np.array(x)\n",
    "y_1=y.reshape(-1, 1)"
   ]
  },
  {
   "cell_type": "code",
   "execution_count": 9,
   "metadata": {},
   "outputs": [
    {
     "name": "stdout",
     "output_type": "stream",
     "text": [
      "{'bandwidth': 0.1}\n"
     ]
    },
    {
     "name": "stderr",
     "output_type": "stream",
     "text": [
      "//anaconda3/lib/python3.7/site-packages/sklearn/model_selection/_search.py:813: DeprecationWarning: The default of the `iid` parameter will change from True to False in version 0.22 and will be removed in 0.24. This will change numeric results when test-set sizes are unequal.\n",
      "  DeprecationWarning)\n"
     ]
    }
   ],
   "source": [
    "from sklearn.model_selection import GridSearchCV\n",
    "\n",
    "grid = GridSearchCV(KernelDensity(),\n",
    "                    {'bandwidth': np.linspace(0.1, 1.0, 30)},\n",
    "                    cv=20) # 20-fold cross-validation\n",
    "grid.fit(y_1)\n",
    "print(grid.best_params_)"
   ]
  },
  {
   "cell_type": "code",
   "execution_count": 39,
   "metadata": {},
   "outputs": [
    {
     "ename": "NameError",
     "evalue": "name 'x_grid' is not defined",
     "output_type": "error",
     "traceback": [
      "\u001b[0;31m---------------------------------------------------------------------------\u001b[0m",
      "\u001b[0;31mNameError\u001b[0m                                 Traceback (most recent call last)",
      "\u001b[0;32m<ipython-input-39-3cb818cf9016>\u001b[0m in \u001b[0;36m<module>\u001b[0;34m\u001b[0m\n\u001b[0;32m----> 1\u001b[0;31m \u001b[0mx_grid\u001b[0m\u001b[0;34m.\u001b[0m\u001b[0mshape\u001b[0m\u001b[0;34m\u001b[0m\u001b[0;34m\u001b[0m\u001b[0m\n\u001b[0m\u001b[1;32m      2\u001b[0m \u001b[0mkde\u001b[0m \u001b[0;34m=\u001b[0m \u001b[0mgrid\u001b[0m\u001b[0;34m.\u001b[0m\u001b[0mbest_estimator_\u001b[0m \u001b[0;31m#FUNCION\u001b[0m\u001b[0;34m\u001b[0m\u001b[0;34m\u001b[0m\u001b[0m\n\u001b[1;32m      3\u001b[0m \u001b[0mpdf\u001b[0m \u001b[0;34m=\u001b[0m \u001b[0mnp\u001b[0m\u001b[0;34m.\u001b[0m\u001b[0mexp\u001b[0m\u001b[0;34m(\u001b[0m\u001b[0mkde\u001b[0m\u001b[0;34m.\u001b[0m\u001b[0mscore_samples\u001b[0m\u001b[0;34m(\u001b[0m\u001b[0mx_grid\u001b[0m\u001b[0;34m[\u001b[0m\u001b[0;34m:\u001b[0m\u001b[0;34m,\u001b[0m \u001b[0;32mNone\u001b[0m\u001b[0;34m]\u001b[0m\u001b[0;34m)\u001b[0m\u001b[0;34m)\u001b[0m \u001b[0;31m#SE EJECUTA CON EL PARAMETRO X_GRID\u001b[0m\u001b[0;34m\u001b[0m\u001b[0;34m\u001b[0m\u001b[0m\n\u001b[1;32m      4\u001b[0m \u001b[0;34m\u001b[0m\u001b[0m\n\u001b[1;32m      5\u001b[0m \u001b[0mfig\u001b[0m\u001b[0;34m,\u001b[0m \u001b[0max\u001b[0m \u001b[0;34m=\u001b[0m \u001b[0mplt\u001b[0m\u001b[0;34m.\u001b[0m\u001b[0msubplots\u001b[0m\u001b[0;34m(\u001b[0m\u001b[0;34m)\u001b[0m\u001b[0;34m\u001b[0m\u001b[0;34m\u001b[0m\u001b[0m\n",
      "\u001b[0;31mNameError\u001b[0m: name 'x_grid' is not defined"
     ]
    }
   ],
   "source": [
    "x_grid.shape\n",
    "kde = grid.best_estimator_ #FUNCION\n",
    "pdf = np.exp(kde.score_samples(x_grid[:, None])) #SE EJECUTA CON EL PARAMETRO X_GRID\n",
    "\n",
    "fig, ax = plt.subplots()\n",
    "ax.plot(x_grid, pdf, linewidth=3, alpha=0.5, label='bw=%.2f' % kde.bandwidth)\n",
    "ax.hist(x, 30, fc='gray', histtype='stepfilled', alpha=0.3, density=True)\n",
    "ax.legend(loc='upper left')\n",
    "ax.set_xlim(-4.5, 3.5);"
   ]
  },
  {
   "cell_type": "code",
   "execution_count": 43,
   "metadata": {},
   "outputs": [
    {
     "data": {
      "text/plain": [
       "0      0.912099\n",
       "1      0.909635\n",
       "2      0.920477\n",
       "3      0.901229\n",
       "4      0.914419\n",
       "5      0.912212\n",
       "6      0.901805\n",
       "7      0.905854\n",
       "8      0.899027\n",
       "9      0.895918\n",
       "10     0.897275\n",
       "11     0.902472\n",
       "12     0.900000\n",
       "13     0.898171\n",
       "14     0.902747\n",
       "15     0.914571\n",
       "16     0.914286\n",
       "17     0.904927\n",
       "18     0.906987\n",
       "19     0.880674\n",
       "20     0.893352\n",
       "21     0.895641\n",
       "22     0.892715\n",
       "23     0.893947\n",
       "24     0.902643\n",
       "25     0.882572\n",
       "26     0.901550\n",
       "27     0.892459\n",
       "28     0.894965\n",
       "29     0.896273\n",
       "         ...   \n",
       "78     0.893683\n",
       "79     0.890189\n",
       "80     0.890877\n",
       "81     0.892080\n",
       "82     0.891803\n",
       "83     0.885520\n",
       "84     0.901969\n",
       "85     0.884514\n",
       "86     0.889834\n",
       "87     0.888485\n",
       "88     0.902041\n",
       "89     0.881356\n",
       "90     0.887350\n",
       "91     0.883864\n",
       "92     0.896712\n",
       "93     0.905396\n",
       "94     0.889655\n",
       "95     0.900144\n",
       "96     0.892857\n",
       "97     0.895040\n",
       "98     0.889372\n",
       "99     0.903535\n",
       "100    0.895054\n",
       "101    0.892845\n",
       "102    0.906565\n",
       "103    0.900129\n",
       "104    0.897643\n",
       "105    0.895360\n",
       "106    0.902203\n",
       "107    0.890641\n",
       "Name: Prom_hombre, Length: 108, dtype: float64"
      ]
     },
     "execution_count": 43,
     "metadata": {},
     "output_type": "execute_result"
    }
   ],
   "source": [
    "data_h_m['Prom_hombre']"
   ]
  },
  {
   "cell_type": "code",
   "execution_count": 10,
   "metadata": {
    "scrolled": true
   },
   "outputs": [
    {
     "data": {
      "image/png": "[encoded data removed]",
      "text/plain": [
       "<Figure size 432x288 with 1 Axes>"
      ]
     },
     "metadata": {
      "needs_background": "light"
     },
     "output_type": "display_data"
    }
   ],
   "source": [
    "plt.hist(data_h_m['Prom_hombre'], bins=30, label='Probabilidad de hombres asesinados')\n",
    "plt.grid()\n",
    "plt.show()"
   ]
  },
  {
   "cell_type": "code",
   "execution_count": 11,
   "metadata": {},
   "outputs": [
    {
     "data": {
      "text/plain": [
       "str"
      ]
     },
     "execution_count": 11,
     "metadata": {},
     "output_type": "execute_result"
    }
   ],
   "source": [
    "df = [str(i) for i in data_h_m['Prom_hombre']]\n",
    "df_s=(str(df))\n",
    "type(df_s)"
   ]
  },
  {
   "cell_type": "markdown",
   "metadata": {},
   "source": [
    "#### OBTENER UNA DISTRIBUCION QUE MAS SE ASEMEJE A LOS DATOS ORIGINALES (ERROR RELATIVO MENOR)"
   ]
  },
  {
   "cell_type": "code",
   "execution_count": 12,
   "metadata": {
    "scrolled": true
   },
   "outputs": [
    {
     "name": "stderr",
     "output_type": "stream",
     "text": [
      "//anaconda3/lib/python3.7/site-packages/scipy/stats/_distn_infrastructure.py:2381: RuntimeWarning: invalid value encountered in double_scalars\n",
      "  Lhat = muhat - Shat*mu\n",
      "//anaconda3/lib/python3.7/site-packages/scipy/stats/_continuous_distns.py:390: RuntimeWarning: divide by zero encountered in true_divide\n",
      "  return 1.0/np.pi/np.sqrt(x*(1-x))\n"
     ]
    },
    {
     "data": {
      "text/plain": [
       "[88.95315871505059, 516.3924871093483, 8724657744785186.0]"
      ]
     },
     "execution_count": 12,
     "metadata": {},
     "output_type": "execute_result"
    },
    {
     "data": {
      "image/png": "[encoded data removed]",
      "text/plain": [
       "<Figure size 432x288 with 1 Axes>"
      ]
     },
     "metadata": {
      "needs_background": "light"
     },
     "output_type": "display_data"
    }
   ],
   "source": [
    "dist_to = [ 'alpha','anglit','arcsine','argus','beta','betaprime','bradford','burr','burr12','cauchy','chi','chi2','cosine','crystalball','dgamma','dweibull','erlang','expon','exponnorm','exponweib','exponpow','f','fatiguelife','fisk','foldcauchy','foldnorm','frechet_r','frechet_l','genlogistic','gennorm','genpareto','genexpon','genextreme','gausshyper','gamma','gengamma','genhalflogistic','gilbrat','gompertz','gumbel_r','gumbel_l','halfcauchy','halflogistic','halfnorm','halfgennorm','hypsecant','invgamma','invgauss','invweibull','johnsonsb','johnsonsu','kappa4','kappa3','ksone','pareto','pearson3','powerlaw','powerlognorm','powernorm','rdist','reciprocal','rayleigh','rice','recipinvgauss','semicircular','skewnorm','t','trapz','triang','truncexpon','truncnorm','tukeylambda','uniform','vonmises','vonmises_line','wald','weibull_min','weibull_max','wrapcauchy']\n",
    "#dist_to = [ 'alpha','anglit','arcsine']\n",
    "e= []\n",
    "\n",
    "data= data_h_m['Prom_hombre']\n",
    "[y,x,_]= plt.hist(data, bins=30, density=True, label='data')\n",
    "x= x[1:]\n",
    "\n",
    "for dist in dist_to:\n",
    "#fit solo funciona con cintinuas (NO DISCRETAS)\n",
    "    param= getattr(st, dist).fit(data) #PARAMETRO, MEDIA, DESVIACION ESTANDAR\n",
    "    pdf= getattr(st,dist).pdf(x, *param)\n",
    "\n",
    "    plt.legend()\n",
    "    e.append(((y-pdf)**2).mean())\n",
    "\n",
    "e #error absoluto \n"
   ]
  },
  {
   "cell_type": "code",
   "execution_count": 37,
   "metadata": {},
   "outputs": [],
   "source": [
    "e_min= np.min(e)\n",
    "place_e_min= np.where(e==e_min)\n",
    "\n",
    "dist_opt= dist_to[0]\n"
   ]
  },
  {
   "cell_type": "code",
   "execution_count": 40,
   "metadata": {},
   "outputs": [
    {
     "data": {
      "text/plain": [
       "str"
      ]
     },
     "execution_count": 40,
     "metadata": {},
     "output_type": "execute_result"
    }
   ],
   "source": [
    "s= str(place_e_min)\n",
    "type(s)"
   ]
  },
  {
   "cell_type": "markdown",
   "metadata": {},
   "source": [
    "#### RECTIIFICAR LE ELECCION DE DISTRIBUCCIONO MEDIANTE EL MEDTODO Q-Q"
   ]
  },
  {
   "cell_type": "code",
   "execution_count": 46,
   "metadata": {},
   "outputs": [
    {
     "name": "stderr",
     "output_type": "stream",
     "text": [
      "//anaconda3/lib/python3.7/site-packages/scipy/optimize/optimize.py:596: RuntimeWarning: invalid value encountered in subtract\n",
      "  numpy.max(numpy.abs(fsim[0] - fsim[1:])) <= fatol):\n"
     ]
    },
    {
     "data": {
      "image/png": "[encoded data removed]",
      "text/plain": [
       "<Figure size 432x288 with 1 Axes>"
      ]
     },
     "metadata": {
      "needs_background": "light"
     },
     "output_type": "display_data"
    }
   ],
   "source": [
    "st.probplot(data_h_m['Prom_hombre'],dist=\"alpha\", sparams=getattr(st, dist).fit(x)[:-2],plot=plt)\n",
    "plt.grid()\n",
    "plt.xlabel('Normal theorical quantiles')\n",
    "plt.ylabel('Data theorical quantiles')\n",
    "plt.show()"
   ]
  },
  {
   "cell_type": "code",
   "execution_count": null,
   "metadata": {},
   "outputs": [],
   "source": []
  },
  {
   "cell_type": "markdown",
   "metadata": {},
   "source": [
    "### 1.7 Visualización de resultados de simulación.\n",
    "> Se deben simular al menos 4  \"nodos\" o \"escenarios\" en tu problema. Para la segunda entrega debes haber elaborado un programa que simule dos de ellos, los primeros dos de tu diagrama.\n",
    "> Para la entrega final deben de tener los 4 nodos con todas sus simulaciones.\n",
    "\n",
    "### 1.6 Conclusiones.\n",
    "> Mucho cuidado, las conclusiones no son cualquier cosa. Se debe concluir respecto a los objetivos planteados de acuerdo a los resultados obtenidos.\n",
    "\n",
    "### 1.7 Referencias.\n",
    "> Citar (en formato APA) la bibliografía utilizada."
   ]
  },
  {
   "cell_type": "markdown",
   "metadata": {},
   "source": [
    "___\n",
    "## 2. Especificaciones adicionales.\n",
    "En el grupo deben haber mínimo dos integrantes y máximo tres integrantes. Para propósitos logísticos nada más, por favor enumérense como *integrante 1*, *integrante 2* e *integrante 3*.\n",
    "\n",
    "### 2.1 Notebook de jupyter. \n",
    "> Los anteriores numerales los deben desarrollar todos en un notebook de jupyter y llamarlo de la siguiente manera `ProyectoModulo1_ApellidoN1_ApellidoN2_ApellidoN3`, donde `ApellidoNi` hace referencia al apellido materno y la inicial del primer nombre del integrante `i`.\n",
    "\n",
    "### 2.2 Proyecto en `GitHub`.\n",
    "> El integrante 1 deberá crear un proyecto en `GitHub` llamado **proyecto_modulo1**, donde tendrán todos los archivos relacionados con el proyecto. Los demás integrantes deben hacer un *fork* del proyecto, seguir el proyecto principal con `GitKraken` y hacer al menos dos contribuciones con *pull request* (como se hizo en la tarea). En el proyecto, deben incluir el repositorio remoto del integrante 1.\n",
    "\n",
    "### 2.3 Presentación.\n",
    "> Recuerden que la nota del proyecto es mitad el trabajo, y mitad la presentación. Deben hacer una presentación ya sea en power point o utlizando un notebook de python para presentar el trabajo durante un horario de clase que se será posteriomente definido. La presentación, además de llevar todos los componentes básicos descritos en el entregable, debe llevar una tabla de contenido.\n",
    "> - Presentación: 10 minutos.\n",
    "> - Seguir estas recomendaciones: https://es.slideshare.net/MeireComputacion/power-point-pautas-para-una-buen-trabajo"
   ]
  },
  {
   "cell_type": "markdown",
   "metadata": {},
   "source": [
    "<script>\n",
    "  $(document).ready(function(){\n",
    "    $('div.prompt').hide();\n",
    "    $('div.back-to-top').hide();\n",
    "    $('nav#menubar').hide();\n",
    "    $('.breadcrumb').hide();\n",
    "    $('.hidden-print').hide();\n",
    "  });\n",
    "</script>\n",
    "\n",
    "<footer id=\"attribution\" style=\"float:right; color:#808080; background:#fff;\">\n",
    "Created with Jupyter by Esteban Jiménez Rodríguez.\n",
    "</footer>"
   ]
  }
 ],
 "metadata": {
  "kernelspec": {
   "display_name": "Python 3",
   "language": "python",
   "name": "python3"
  },
  "language_info": {
   "codemirror_mode": {
    "name": "ipython",
    "version": 3
   },
   "file_extension": ".py",
   "mimetype": "text/x-python",
   "name": "python",
   "nbconvert_exporter": "python",
   "pygments_lexer": "ipython3",
   "version": "3.7.3"
  }
 },
 "nbformat": 4,
 "nbformat_minor": 2
}
